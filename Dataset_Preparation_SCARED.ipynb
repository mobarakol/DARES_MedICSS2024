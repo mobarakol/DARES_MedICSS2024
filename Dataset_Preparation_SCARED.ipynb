{
  "nbformat": 4,
  "nbformat_minor": 0,
  "metadata": {
    "colab": {
      "provenance": [],
      "authorship_tag": "ABX9TyP5ye0H9j90tgD0zLuV510C",
      "include_colab_link": true
    },
    "kernelspec": {
      "name": "python3",
      "display_name": "Python 3"
    },
    "language_info": {
      "name": "python"
    }
  },
  "cells": [
    {
      "cell_type": "markdown",
      "metadata": {
        "id": "view-in-github",
        "colab_type": "text"
      },
      "source": [
        "<a href=\"https://colab.research.google.com/github/mobarakol/DARES_MedICSS2024/blob/main/Dataset_Preparation_SCARED.ipynb\" target=\"_parent\"><img src=\"https://colab.research.google.com/assets/colab-badge.svg\" alt=\"Open In Colab\"/></a>"
      ]
    },
    {
      "cell_type": "markdown",
      "source": [
        "Download the dataset from Endovis SCARED challenged website. This is a subset of the dataset with only videos and GTs depth and pose to reproduce most of the literatures with this dataset.\n",
        "Folder and File names changes comparing to the official version:\n",
        "- Remove '_' from all the folder names (e.g., dataset_1 to dataset1)\n",
        "- Rename keyframes inside dataset8 and 9 (e.g., keyframe0-4 to keyframe1-5)\n",
        "  "
      ],
      "metadata": {
        "id": "5cl65CeCeuTG"
      }
    },
    {
      "cell_type": "code",
      "source": [
        "import gdown\n",
        "d3k4_url = 'https://drive.google.com/uc?id=1O77ky4QF6LzG7UvKk6pxs7R51vKk4Bro'\n",
        "gdown.download(d3k4_url,'SCARED_Videos.zip',quiet=True)\n",
        "\n",
        "!unzip -q SCARED_Videos.zip\n",
        "!rm SCARED_Videos.zip"
      ],
      "metadata": {
        "id": "-rHyRmL-edC9"
      },
      "execution_count": 1,
      "outputs": []
    },
    {
      "cell_type": "markdown",
      "source": [
        "Converting mp4 to frames:"
      ],
      "metadata": {
        "id": "MKLhViclghfu"
      }
    },
    {
      "cell_type": "code",
      "source": [
        "from glob import glob\n",
        "import os\n",
        "import shutil\n",
        "import cv2\n",
        "video_all = glob('SCARED_Videos/*/*/data/rgb.mp4')\n",
        "for video_path in video_all:\n",
        "    print(video_path)\n",
        "    img_path = video_path[:-12] + 'image_02/data'\n",
        "    os.makedirs(img_path, mode = 0o777, exist_ok = True)\n",
        "    capture = cv2.VideoCapture(video_path)\n",
        "    success = True\n",
        "    count = 1\n",
        "    while success:\n",
        "        success, image = capture.read()\n",
        "        if success:\n",
        "            cv2.imwrite(os.path.join(img_path, \"{:010d}.png\".format(count)), image[:1024,:,:]) #jpg_quality\n",
        "            count = count + 1\n",
        "    !rm $video_path"
      ],
      "metadata": {
        "colab": {
          "base_uri": "https://localhost:8080/"
        },
        "id": "howkBOyuelc7",
        "outputId": "a6134e38-83c3-412a-a500-c7cd3945c009"
      },
      "execution_count": null,
      "outputs": [
        {
          "output_type": "stream",
          "name": "stdout",
          "text": [
            "SCARED_Videos/dataset2/keyframe4/data/rgb.mp4\n",
            "SCARED_Videos/dataset2/keyframe3/data/rgb.mp4\n",
            "SCARED_Videos/dataset2/keyframe1/data/rgb.mp4\n",
            "SCARED_Videos/dataset2/keyframe2/data/rgb.mp4\n",
            "SCARED_Videos/dataset3/keyframe4/data/rgb.mp4\n",
            "SCARED_Videos/dataset3/keyframe3/data/rgb.mp4\n",
            "SCARED_Videos/dataset3/keyframe1/data/rgb.mp4\n"
          ]
        }
      ]
    },
    {
      "cell_type": "code",
      "source": [],
      "metadata": {
        "id": "p7CWIpzXgWyJ"
      },
      "execution_count": null,
      "outputs": []
    }
  ]
}