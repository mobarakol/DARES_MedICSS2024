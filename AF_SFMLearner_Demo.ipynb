{
  "nbformat": 4,
  "nbformat_minor": 0,
  "metadata": {
    "colab": {
      "provenance": [],
      "mount_file_id": "1VCrLYT_JP9MhrEEh8QMvPrk7HlyZiXgz",
      "authorship_tag": "ABX9TyPEBzKDwpgu4Vxw0qrsIeXk",
      "include_colab_link": true
    },
    "kernelspec": {
      "name": "python3",
      "display_name": "Python 3"
    },
    "language_info": {
      "name": "python"
    }
  },
  "cells": [
    {
      "cell_type": "markdown",
      "metadata": {
        "id": "view-in-github",
        "colab_type": "text"
      },
      "source": [
        "<a href=\"https://colab.research.google.com/github/mobarakol/DARES_MedICSS2024/blob/main/AF_SFMLearner_Demo.ipynb\" target=\"_parent\"><img src=\"https://colab.research.google.com/assets/colab-badge.svg\" alt=\"Open In Colab\"/></a>"
      ]
    },
    {
      "cell_type": "markdown",
      "source": [
        "Connecting with google drive"
      ],
      "metadata": {
        "id": "537JaYThsEgw"
      }
    },
    {
      "cell_type": "code",
      "execution_count": null,
      "metadata": {
        "id": "1pJR68UknO25"
      },
      "outputs": [],
      "source": [
        "from google.colab import drive\n",
        "drive.mount('/content/drive')"
      ]
    },
    {
      "cell_type": "code",
      "source": [
        "%cd ..\n",
        "!rm -rf AF-SfMLearner"
      ],
      "metadata": {
        "colab": {
          "base_uri": "https://localhost:8080/"
        },
        "id": "7XR-ksC9sosb",
        "outputId": "bd5394a4-fd9d-4334-d517-446a4e9cc5e5"
      },
      "execution_count": 23,
      "outputs": [
        {
          "output_type": "stream",
          "name": "stdout",
          "text": [
            "/content\n"
          ]
        }
      ]
    },
    {
      "cell_type": "markdown",
      "source": [
        "Download Code from the updated repo (corner=true)"
      ],
      "metadata": {
        "id": "8RMUq7hUnbD0"
      }
    },
    {
      "cell_type": "code",
      "source": [
        "!git clone https://github.com/mobarakol/AF-SfMLearner.git\n",
        "%cd AF-SfMLearner\n",
        "\n",
        "!gdown 1trvLsQvXpsILHTZPR-FU5z6Au4YZLwRP\n",
        "!mv gt_depths.npz /content/AF-SfMLearner/splits/endovis"
      ],
      "metadata": {
        "colab": {
          "base_uri": "https://localhost:8080/"
        },
        "id": "iuU4TP1KnkrX",
        "outputId": "a12ea582-02e5-475f-baa7-8c6a875ebb10"
      },
      "execution_count": 24,
      "outputs": [
        {
          "output_type": "stream",
          "name": "stdout",
          "text": [
            "Cloning into 'AF-SfMLearner'...\n",
            "remote: Enumerating objects: 281, done.\u001b[K\n",
            "remote: Counting objects: 100% (98/98), done.\u001b[K\n",
            "remote: Compressing objects: 100% (89/89), done.\u001b[K\n",
            "remote: Total 281 (delta 49), reused 23 (delta 9), pack-reused 183\u001b[K\n",
            "Receiving objects: 100% (281/281), 4.84 MiB | 16.53 MiB/s, done.\n",
            "Resolving deltas: 100% (123/123), done.\n",
            "/content/AF-SfMLearner\n",
            "Downloading...\n",
            "From (original): https://drive.google.com/uc?id=1trvLsQvXpsILHTZPR-FU5z6Au4YZLwRP\n",
            "From (redirected): https://drive.google.com/uc?id=1trvLsQvXpsILHTZPR-FU5z6Au4YZLwRP&confirm=t&uuid=708204f6-1acd-4f02-9553-2447bbbd9360\n",
            "To: /content/AF-SfMLearner/gt_depths.npz\n",
            "100% 811M/811M [00:17<00:00, 46.9MB/s]\n"
          ]
        }
      ]
    },
    {
      "cell_type": "code",
      "source": [
        "!python evaluate_depth.py --data_path /content/drive/MyDrive/DARES/SCARED_Images_Resized --max_depth 150.0 --eval_mono --load_weights_folder /content/drive/MyDrive/DARES/af_sfmlearner_weights_media"
      ],
      "metadata": {
        "colab": {
          "base_uri": "https://localhost:8080/"
        },
        "id": "3U6htca8qvmI",
        "outputId": "e508a91b-5141-4076-bfc4-38c3ecfdb91b"
      },
      "execution_count": 25,
      "outputs": [
        {
          "output_type": "stream",
          "name": "stdout",
          "text": [
            "-> Loading weights from /content/drive/MyDrive/DARES/af_sfmlearner_weights_media\n",
            "-> Computing predictions with size 320x256\n",
            "-> Evaluating\n",
            "   Mono evaluation - using median scaling\n",
            " Scaling ratios | med: 152.231 | std: 0.323\n",
            "\n",
            "   abs_rel |   sq_rel |     rmse | rmse_log |       a1 |       a2 |       a3 | \n",
            "&   0.060  &   0.477  &   5.100  &   0.083  &   0.966  &   0.997  &   1.000  \\\\\n",
            "\n",
            "-> Done!\n"
          ]
        }
      ]
    },
    {
      "cell_type": "markdown",
      "source": [
        "Pose for SCARED Seq 1:"
      ],
      "metadata": {
        "id": "i2nY8OxE3tzz"
      }
    },
    {
      "cell_type": "code",
      "source": [
        "!python evaluate_pose.py --data_path /content/drive/MyDrive/DARES/SCARED_Images_Resized --load_weights_folder /content/drive/MyDrive/DARES/af_sfmlearner_weights_media --scared_pose_seq 1"
      ],
      "metadata": {
        "colab": {
          "base_uri": "https://localhost:8080/"
        },
        "id": "BC7obpfd3uEI",
        "outputId": "9bb36864-eabc-4891-e0cf-137d0c5e8fbe"
      },
      "execution_count": 38,
      "outputs": [
        {
          "output_type": "stream",
          "name": "stdout",
          "text": [
            "-> Computing pose predictions\n",
            "\n",
            "   Trajectory error: 0.0757, std: 0.0544\n",
            "\n",
            "\n",
            "   Rotation error: 0.0031, std: 0.0019\n",
            "\n"
          ]
        }
      ]
    },
    {
      "cell_type": "markdown",
      "source": [
        "Pose for SCARED Seq 2:"
      ],
      "metadata": {
        "id": "kpo4Qzie3oMc"
      }
    },
    {
      "cell_type": "code",
      "source": [
        "|!python evaluate_pose.py --data_path /content/drive/MyDrive/DARES/SCARED_Images_Resized --load_weights_folder /content/drive/MyDrive/DARES/af_sfmlearner_weights_media --scared_pose_seq 2"
      ],
      "metadata": {
        "colab": {
          "base_uri": "https://localhost:8080/"
        },
        "id": "2-zm-PoKqymv",
        "outputId": "983a3556-9bf7-4f68-f566-ebc2f005551b"
      },
      "execution_count": 36,
      "outputs": [
        {
          "output_type": "stream",
          "name": "stdout",
          "text": [
            "-> Computing pose predictions\n",
            "\n",
            "   Trajectory error: 0.0501, std: 0.0281\n",
            "\n",
            "\n",
            "   Rotation error: 0.0034, std: 0.0022\n",
            "\n"
          ]
        }
      ]
    },
    {
      "cell_type": "code",
      "source": [
        "!python visualize_pose.py --scared_pose_seq 1"
      ],
      "metadata": {
        "colab": {
          "base_uri": "https://localhost:8080/"
        },
        "id": "nQpdm1dBxVmV",
        "outputId": "0b70c8c2-9b13-442a-cd1f-dc7a6bf7b00f"
      },
      "execution_count": 41,
      "outputs": [
        {
          "output_type": "stream",
          "name": "stdout",
          "text": [
            "Figure(640x480)\n"
          ]
        }
      ]
    },
    {
      "cell_type": "code",
      "source": [
        "!python visualize_pose.py --scared_pose_seq 2"
      ],
      "metadata": {
        "colab": {
          "base_uri": "https://localhost:8080/"
        },
        "id": "iS9DUmAc8tSt",
        "outputId": "80d9704b-d81d-4e0f-c4d9-4d5cf7ba4f2f"
      },
      "execution_count": 42,
      "outputs": [
        {
          "output_type": "stream",
          "name": "stdout",
          "text": [
            "Figure(640x480)\n"
          ]
        }
      ]
    },
    {
      "cell_type": "code",
      "source": [
        "import matplotlib.pyplot as plt"
      ],
      "metadata": {
        "id": "vE2KQl6f9hnp"
      },
      "execution_count": null,
      "outputs": []
    }
  ]
}