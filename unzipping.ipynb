{
  "nbformat": 4,
  "nbformat_minor": 0,
  "metadata": {
    "colab": {
      "provenance": [],
      "mount_file_id": "1xGRCi7746TIkBrbWTURxT0HSsjqPEr-1",
      "authorship_tag": "ABX9TyPIBoYE5TrIq4w94fK0jCvq",
      "include_colab_link": true
    },
    "kernelspec": {
      "name": "python3",
      "display_name": "Python 3"
    },
    "language_info": {
      "name": "python"
    }
  },
  "cells": [
    {
      "cell_type": "markdown",
      "metadata": {
        "id": "view-in-github",
        "colab_type": "text"
      },
      "source": [
        "<a href=\"https://colab.research.google.com/github/mobarakol/DARES_MedICSS2024/blob/main/unzipping.ipynb\" target=\"_parent\"><img src=\"https://colab.research.google.com/assets/colab-badge.svg\" alt=\"Open In Colab\"/></a>"
      ]
    },
    {
      "cell_type": "code",
      "execution_count": 1,
      "metadata": {
        "id": "NQgU6DpccLxv"
      },
      "outputs": [],
      "source": [
        "data_path = \"/content/drive/MyDrive/Datasets/SCARED_Images_Resized.zip\"\n"
      ]
    },
    {
      "cell_type": "code",
      "source": [
        "!unzip -q /content/drive/MyDrive/Datasets/SCARED_Images_Resized.zip -d /content/drive/MyDrive/Datasets/"
      ],
      "metadata": {
        "id": "x3siWMQieQdt"
      },
      "execution_count": 2,
      "outputs": []
    },
    {
      "cell_type": "code",
      "source": [
        "!ls /content/drive/MyDrive/Datasets/SCARED_Images_Resized"
      ],
      "metadata": {
        "colab": {
          "base_uri": "https://localhost:8080/"
        },
        "id": "a9pmA6NyfNVh",
        "outputId": "ee71e41f-4ce5-45e7-a8e4-7b38064f9740"
      },
      "execution_count": 3,
      "outputs": [
        {
          "output_type": "stream",
          "name": "stdout",
          "text": [
            "dataset1  dataset2  dataset3  dataset4\tdataset5  dataset6  dataset7  dataset8\tdataset9\n"
          ]
        }
      ]
    },
    {
      "cell_type": "code",
      "source": [],
      "metadata": {
        "id": "H6mjruX8iHIe"
      },
      "execution_count": null,
      "outputs": []
    }
  ]
}