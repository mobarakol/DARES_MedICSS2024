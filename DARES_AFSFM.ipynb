{
  "nbformat": 4,
  "nbformat_minor": 0,
  "metadata": {
    "colab": {
      "provenance": [],
      "machine_shape": "hm",
      "gpuType": "T4",
      "include_colab_link": true
    },
    "kernelspec": {
      "name": "python3",
      "display_name": "Python 3"
    },
    "language_info": {
      "name": "python"
    },
    "accelerator": "GPU"
  },
  "cells": [
    {
      "cell_type": "markdown",
      "metadata": {
        "id": "view-in-github",
        "colab_type": "text"
      },
      "source": [
        "<a href=\"https://colab.research.google.com/github/mobarakol/DARES_MedICSS2024/blob/main/DARES_AFSFM.ipynb\" target=\"_parent\"><img src=\"https://colab.research.google.com/assets/colab-badge.svg\" alt=\"Open In Colab\"/></a>"
      ]
    },
    {
      "cell_type": "code",
      "source": [
        "from google.colab import drive\n",
        "drive.mount('/content/drive')"
      ],
      "metadata": {
        "colab": {
          "base_uri": "https://localhost:8080/"
        },
        "id": "9GFtACtlQRB7",
        "outputId": "e78f74b9-7651-41b0-af41-3fd5f183394f"
      },
      "execution_count": 1,
      "outputs": [
        {
          "output_type": "stream",
          "name": "stdout",
          "text": [
            "Mounted at /content/drive\n"
          ]
        }
      ]
    },
    {
      "cell_type": "code",
      "source": [
        "!nvidia-smi"
      ],
      "metadata": {
        "colab": {
          "base_uri": "https://localhost:8080/"
        },
        "id": "wqOGVYmkAbeK",
        "outputId": "c945a242-4cb4-4285-86cf-93c4304fd13c"
      },
      "execution_count": 2,
      "outputs": [
        {
          "output_type": "stream",
          "name": "stdout",
          "text": [
            "Tue Jul  9 09:22:26 2024       \n",
            "+---------------------------------------------------------------------------------------+\n",
            "| NVIDIA-SMI 535.104.05             Driver Version: 535.104.05   CUDA Version: 12.2     |\n",
            "|-----------------------------------------+----------------------+----------------------+\n",
            "| GPU  Name                 Persistence-M | Bus-Id        Disp.A | Volatile Uncorr. ECC |\n",
            "| Fan  Temp   Perf          Pwr:Usage/Cap |         Memory-Usage | GPU-Util  Compute M. |\n",
            "|                                         |                      |               MIG M. |\n",
            "|=========================================+======================+======================|\n",
            "|   0  Tesla T4                       Off | 00000000:00:04.0 Off |                    0 |\n",
            "| N/A   47C    P8               9W /  70W |      0MiB / 15360MiB |      0%      Default |\n",
            "|                                         |                      |                  N/A |\n",
            "+-----------------------------------------+----------------------+----------------------+\n",
            "                                                                                         \n",
            "+---------------------------------------------------------------------------------------+\n",
            "| Processes:                                                                            |\n",
            "|  GPU   GI   CI        PID   Type   Process name                            GPU Memory |\n",
            "|        ID   ID                                                             Usage      |\n",
            "|=======================================================================================|\n",
            "|  No running processes found                                                           |\n",
            "+---------------------------------------------------------------------------------------+\n"
          ]
        }
      ]
    },
    {
      "cell_type": "code",
      "source": [
        "%cd /content/drive/MyDrive/DARES/AF-SfMLearner"
      ],
      "metadata": {
        "colab": {
          "base_uri": "https://localhost:8080/"
        },
        "id": "MwScEIXclQmx",
        "outputId": "cfaf37a7-cb74-4528-ac1d-0ba045df6912"
      },
      "execution_count": 3,
      "outputs": [
        {
          "output_type": "stream",
          "name": "stdout",
          "text": [
            "/content/drive/MyDrive/DARES/AF-SfMLearner\n"
          ]
        }
      ]
    },
    {
      "cell_type": "code",
      "source": [
        "!pip -q install tensorboardX open3d"
      ],
      "metadata": {
        "colab": {
          "base_uri": "https://localhost:8080/"
        },
        "id": "EkHr7_7L24RL",
        "outputId": "8bcb75ef-6a50-42cd-c4a3-e85d50cb67bf"
      },
      "execution_count": 7,
      "outputs": [
        {
          "output_type": "stream",
          "name": "stdout",
          "text": [
            "\u001b[2K     \u001b[90m━━━━━━━━━━━━━━━━━━━━━━━━━━━━━━━━━━━━━━━━\u001b[0m \u001b[32m399.7/399.7 MB\u001b[0m \u001b[31m3.7 MB/s\u001b[0m eta \u001b[36m0:00:00\u001b[0m\n",
            "\u001b[2K     \u001b[90m━━━━━━━━━━━━━━━━━━━━━━━━━━━━━━━━━━━━━━━━\u001b[0m \u001b[32m7.5/7.5 MB\u001b[0m \u001b[31m95.1 MB/s\u001b[0m eta \u001b[36m0:00:00\u001b[0m\n",
            "\u001b[2K     \u001b[90m━━━━━━━━━━━━━━━━━━━━━━━━━━━━━━━━━━━━━━━━\u001b[0m \u001b[32m139.4/139.4 kB\u001b[0m \u001b[31m16.5 MB/s\u001b[0m eta \u001b[36m0:00:00\u001b[0m\n",
            "\u001b[2K     \u001b[90m━━━━━━━━━━━━━━━━━━━━━━━━━━━━━━━━━━━━━━━━\u001b[0m \u001b[32m2.3/2.3 MB\u001b[0m \u001b[31m79.9 MB/s\u001b[0m eta \u001b[36m0:00:00\u001b[0m\n",
            "\u001b[2K     \u001b[90m━━━━━━━━━━━━━━━━━━━━━━━━━━━━━━━━━━━━━━━━\u001b[0m \u001b[32m1.6/1.6 MB\u001b[0m \u001b[31m82.6 MB/s\u001b[0m eta \u001b[36m0:00:00\u001b[0m\n",
            "\u001b[?25h"
          ]
        }
      ]
    },
    {
      "cell_type": "code",
      "source": [
        "!ls"
      ],
      "metadata": {
        "id": "wQxjuLvWs8YH",
        "colab": {
          "base_uri": "https://localhost:8080/"
        },
        "outputId": "6fbf1ac6-f283-4d6d-ff18-b80f037b3370"
      },
      "execution_count": null,
      "outputs": [
        {
          "output_type": "stream",
          "name": "stdout",
          "text": [
            "datasets\t    export_gt_pose.py\t    LICENSE\t__pycache__\ttrain_end_to_end.py\n",
            "evaluate_depth.py   extract_left_frames.py  logs_afsfm\tREADME.md\ttrainer_end_to_end.py\n",
            "evaluate_pose.py    imgs\t\t    networks\tsplits\t\tutils.py\n",
            "export_gt_depth.py  layers.py\t\t    options.py\ttest_simple.py\tvisualize_pose.py\n"
          ]
        }
      ]
    },
    {
      "cell_type": "code",
      "source": [
        "!python evaluate_depth.py --data_path /content/drive/MyDrive/DARES/SCARED_Images_Resized --max_depth 150.0 --eval_mono --load_weights_folder /content/drive/MyDrive/DARES/af_sfmlearner_weights_media"
      ],
      "metadata": {
        "colab": {
          "base_uri": "https://localhost:8080/"
        },
        "id": "l6-e3sShvDSf",
        "outputId": "f0a67440-5694-484a-bfa6-f7725c147243"
      },
      "execution_count": null,
      "outputs": [
        {
          "output_type": "stream",
          "name": "stdout",
          "text": [
            "-> Loading weights from /content/drive/MyDrive/DARES/af_sfmlearner_weights_media\n",
            "/usr/local/lib/python3.10/dist-packages/torchvision/models/_utils.py:135: UserWarning: Using 'weights' as positional parameter(s) is deprecated since 0.13 and may be removed in the future. Please use keyword parameter(s) instead.\n",
            "  warnings.warn(\n",
            "/usr/local/lib/python3.10/dist-packages/torchvision/models/_utils.py:223: UserWarning: Arguments other than a weight enum or `None` for 'weights' are deprecated since 0.13 and may be removed in the future. The current behavior is equivalent to passing `weights=None`.\n",
            "  warnings.warn(msg)\n",
            "-> Computing predictions with size 320x256\n",
            "-> Evaluating\n",
            "   Mono evaluation - using median scaling\n",
            " Scaling ratios | med: 152.230 | std: 0.323\n",
            "\n",
            "   abs_rel |   sq_rel |     rmse | rmse_log |       a1 |       a2 |       a3 | \n",
            "&   0.060  &   0.477  &   5.100  &   0.083  &   0.966  &   0.997  &   1.000  \\\\\n",
            "\n",
            "-> Done!\n"
          ]
        }
      ]
    },
    {
      "cell_type": "code",
      "source": [
        "!python evaluate_pose.py --data_path /content/drive/MyDrive/DARES/SCARED_Images_Resized --load_weights_folder /content/drive/MyDrive/DARES/af_sfmlearner_weights_media"
      ],
      "metadata": {
        "colab": {
          "base_uri": "https://localhost:8080/"
        },
        "id": "RFCZ9aXEy553",
        "outputId": "0d6b3096-1439-4f0b-fe78-91031c8deaf4"
      },
      "execution_count": null,
      "outputs": [
        {
          "output_type": "stream",
          "name": "stdout",
          "text": [
            "-> Computing pose predictions\n",
            "\n",
            "   Trajectory error: 0.0501, std: 0.0281\n",
            "\n",
            "\n",
            "   Rotation error: 0.0034, std: 0.0022\n",
            "\n"
          ]
        }
      ]
    },
    {
      "cell_type": "code",
      "source": [
        "!python train_end_to_end.py --data_path /content/drive/MyDrive/DARES/SCARED_Images_Resized --log_dir logs_afsfm --num_epochs 5"
      ],
      "metadata": {
        "colab": {
          "base_uri": "https://localhost:8080/"
        },
        "id": "D3MJI3501hdj",
        "outputId": "7609f2e9-a4b9-4e1c-eec2-f3eab4cf76a5"
      },
      "execution_count": null,
      "outputs": [
        {
          "output_type": "stream",
          "name": "stdout",
          "text": [
            "2024-07-03 10:03:49.137703: I tensorflow/core/util/port.cc:113] oneDNN custom operations are on. You may see slightly different numerical results due to floating-point round-off errors from different computation orders. To turn them off, set the environment variable `TF_ENABLE_ONEDNN_OPTS=0`.\n",
            "2024-07-03 10:03:49.188385: E external/local_xla/xla/stream_executor/cuda/cuda_dnn.cc:9261] Unable to register cuDNN factory: Attempting to register factory for plugin cuDNN when one has already been registered\n",
            "2024-07-03 10:03:49.188430: E external/local_xla/xla/stream_executor/cuda/cuda_fft.cc:607] Unable to register cuFFT factory: Attempting to register factory for plugin cuFFT when one has already been registered\n",
            "2024-07-03 10:03:49.189926: E external/local_xla/xla/stream_executor/cuda/cuda_blas.cc:1515] Unable to register cuBLAS factory: Attempting to register factory for plugin cuBLAS when one has already been registered\n",
            "2024-07-03 10:03:49.197414: I tensorflow/core/platform/cpu_feature_guard.cc:182] This TensorFlow binary is optimized to use available CPU instructions in performance-critical operations.\n",
            "To enable the following instructions: AVX2 AVX512F AVX512_VNNI FMA, in other operations, rebuild TensorFlow with the appropriate compiler flags.\n",
            "2024-07-03 10:03:50.338486: W tensorflow/compiler/tf2tensorrt/utils/py_utils.cc:38] TF-TRT Warning: Could not find TensorRT\n",
            "LoRA params initialized!\n",
            "Training model named:\n",
            "   mdp\n",
            "Models and tensorboard events files are saved to:\n",
            "   logs_afsfm\n",
            "Training is using:\n",
            "   cuda\n",
            "/usr/lib/python3.10/multiprocessing/popen_fork.py:66: RuntimeWarning: os.fork() was called. os.fork() is incompatible with multithreaded code, and JAX is multithreaded, so this will likely lead to a deadlock.\n",
            "  self.pid = os.fork()\n",
            "/usr/local/lib/python3.10/dist-packages/torch/functional.py:512: UserWarning: torch.meshgrid: in an upcoming release, it will be required to pass the indexing argument. (Triggered internally at ../aten/src/ATen/native/TensorShape.cpp:3587.)\n",
            "  return _VF.meshgrid(tensors, **kwargs)  # type: ignore[attr-defined]\n",
            "Using split:\n",
            "   endovis\n",
            "There are 15351 training items and 1705 validation items\n",
            "\n",
            "Training\n",
            "/usr/local/lib/python3.10/dist-packages/torch/nn/functional.py:4343: UserWarning: Default grid_sample and affine_grid behavior has changed to align_corners=False since 1.3.0. Please specify align_corners=True if the old behavior is desired. See the documentation of grid_sample for details.\n",
            "  warnings.warn(\n",
            "/usr/local/lib/python3.10/dist-packages/torch/autograd/graph.py:744: UserWarning: Plan failed with a cudnnException: CUDNN_BACKEND_EXECUTION_PLAN_DESCRIPTOR: cudnnFinalize Descriptor Failed cudnn_status: CUDNN_STATUS_NOT_SUPPORTED (Triggered internally at ../aten/src/ATen/native/cudnn/Conv_v8.cpp:919.)\n",
            "  return Variable._execution_engine.run_backward(  # Calls into the C++ engine to run the backward pass\n",
            "epoch   0 | batch      0 | examples/s:   4.5 | loss: 0.16706 | time elapsed: 00h00m17s | time left: 00h00m00s\n",
            "epoch   0 | batch    200 | examples/s:  13.0 | loss: 0.11058 | time elapsed: 00h03m31s | time left: 01h49m19s\n",
            "epoch   0 | batch    400 | examples/s:  12.9 | loss: 0.14111 | time elapsed: 00h06m43s | time left: 01h40m45s\n",
            "epoch   0 | batch    600 | examples/s:  12.9 | loss: 0.07214 | time elapsed: 00h09m55s | time left: 01h35m52s\n",
            "epoch   0 | batch    800 | examples/s:  12.9 | loss: 0.06957 | time elapsed: 00h13m06s | time left: 01h31m43s\n",
            "epoch   0 | batch   1000 | examples/s:  12.9 | loss: 0.05422 | time elapsed: 00h16m17s | time left: 01h27m55s\n",
            "epoch   0 | batch   1200 | examples/s:  12.9 | loss: 0.06767 | time elapsed: 00h19m28s | time left: 01h24m19s\n",
            "Training\n",
            "epoch   1 | batch      0 | examples/s:  11.2 | loss: 0.04333 | time elapsed: 00h21m10s | time left: 01h24m41s\n",
            "epoch   1 | batch    200 | examples/s:  13.0 | loss: 0.04699 | time elapsed: 00h24m21s | time left: 01h20m57s\n",
            "epoch   1 | batch    400 | examples/s:  13.0 | loss: 0.03271 | time elapsed: 00h27m32s | time left: 01h17m20s\n",
            "epoch   1 | batch    600 | examples/s:  12.9 | loss: 0.05639 | time elapsed: 00h30m42s | time left: 01h13m48s\n",
            "epoch   1 | batch    800 | examples/s:  12.9 | loss: 0.05202 | time elapsed: 00h33m54s | time left: 01h10m22s\n",
            "epoch   1 | batch   1000 | examples/s:  12.9 | loss: 0.03641 | time elapsed: 00h37m05s | time left: 01h06m58s\n",
            "epoch   1 | batch   1200 | examples/s:  13.0 | loss: 0.05194 | time elapsed: 00h40m16s | time left: 01h03m36s\n",
            "Training\n",
            "epoch   2 | batch      0 | examples/s:  12.0 | loss: 0.03422 | time elapsed: 00h41m58s | time left: 01h02m57s\n"
          ]
        }
      ]
    },
    {
      "cell_type": "code",
      "source": [
        "!python evaluate_depth.py --data_path /content/drive/MyDrive/DARES/SCARED_Images_Resized --max_depth 150.0 --eval_mono --load_weights_folder /content/drive/MyDrive/DARES/AF-SfMLearner/logs_afsfm/mdp/models/weights_4"
      ],
      "metadata": {
        "id": "iyw4RMnY2zYo",
        "outputId": "42273ebd-48bb-4013-fac6-f321196d9233",
        "colab": {
          "base_uri": "https://localhost:8080/"
        }
      },
      "execution_count": 5,
      "outputs": [
        {
          "output_type": "stream",
          "name": "stdout",
          "text": [
            "2024-07-09 09:22:57.797541: E external/local_xla/xla/stream_executor/cuda/cuda_dnn.cc:9261] Unable to register cuDNN factory: Attempting to register factory for plugin cuDNN when one has already been registered\n",
            "2024-07-09 09:22:57.797586: E external/local_xla/xla/stream_executor/cuda/cuda_fft.cc:607] Unable to register cuFFT factory: Attempting to register factory for plugin cuFFT when one has already been registered\n",
            "2024-07-09 09:22:57.799294: E external/local_xla/xla/stream_executor/cuda/cuda_blas.cc:1515] Unable to register cuBLAS factory: Attempting to register factory for plugin cuBLAS when one has already been registered\n",
            "2024-07-09 09:22:57.808268: I tensorflow/core/platform/cpu_feature_guard.cc:182] This TensorFlow binary is optimized to use available CPU instructions in performance-critical operations.\n",
            "To enable the following instructions: AVX2 FMA, in other operations, rebuild TensorFlow with the appropriate compiler flags.\n",
            "2024-07-09 09:23:00.020695: W tensorflow/compiler/tf2tensorrt/utils/py_utils.cc:38] TF-TRT Warning: Could not find TensorRT\n",
            "-> Loading weights from /content/drive/MyDrive/DARES/AF-SfMLearner/logs_afsfm/mdp/models/weights_4\n",
            "/usr/local/lib/python3.10/dist-packages/torch/utils/data/dataloader.py:558: UserWarning: This DataLoader will create 12 worker processes in total. Our suggested max number of worker in current system is 2, which is smaller than what this DataLoader is going to create. Please be aware that excessive worker creation might get DataLoader running slow or even freeze, lower the worker number to avoid potential slowness/freeze if necessary.\n",
            "  warnings.warn(_create_warning_msg(\n",
            "config.json: 100% 954/954 [00:00<00:00, 6.31MB/s]\n",
            "model.safetensors: 100% 99.2M/99.2M [00:00<00:00, 146MB/s]\n",
            "LoRA params initialized!\n",
            "-> Computing predictions with size 320x256\n",
            "/usr/lib/python3.10/multiprocessing/popen_fork.py:66: RuntimeWarning: os.fork() was called. os.fork() is incompatible with multithreaded code, and JAX is multithreaded, so this will likely lead to a deadlock.\n",
            "  self.pid = os.fork()\n",
            "-> Evaluating\n",
            "   Mono evaluation - using median scaling\n",
            " Scaling ratios | med: 271.008 | std: 0.307\n",
            "\n",
            "   abs_rel |   sq_rel |     rmse | rmse_log |       a1 |       a2 |       a3 | \n",
            "&   0.107  &   1.402  &   8.811  &   0.148  &   0.892  &   0.976  &   0.993  \\\\\n",
            "\n",
            "-> Done!\n"
          ]
        }
      ]
    },
    {
      "cell_type": "code",
      "source": [
        "!python evaluate_3d_reconstruction.py --data_path /content/drive/MyDrive/DARES/SCARED_Images_Resized --eval_mono --load_weights_folder /content/drive/MyDrive/DARES/AF-SfMLearner/logs_afsfm/mdp/models/weights_4 --visualize_depth --save_recon"
      ],
      "metadata": {
        "id": "NlUHFQsVzVch",
        "outputId": "2e149f3d-8ad6-435d-f4d6-902d36cc4d89",
        "colab": {
          "base_uri": "https://localhost:8080/"
        }
      },
      "execution_count": 11,
      "outputs": [
        {
          "output_type": "stream",
          "name": "stdout",
          "text": [
            "2024-07-09 09:30:45.317069: E external/local_xla/xla/stream_executor/cuda/cuda_dnn.cc:9261] Unable to register cuDNN factory: Attempting to register factory for plugin cuDNN when one has already been registered\n",
            "2024-07-09 09:30:45.317130: E external/local_xla/xla/stream_executor/cuda/cuda_fft.cc:607] Unable to register cuFFT factory: Attempting to register factory for plugin cuFFT when one has already been registered\n",
            "2024-07-09 09:30:45.319001: E external/local_xla/xla/stream_executor/cuda/cuda_blas.cc:1515] Unable to register cuBLAS factory: Attempting to register factory for plugin cuBLAS when one has already been registered\n",
            "2024-07-09 09:30:45.329581: I tensorflow/core/platform/cpu_feature_guard.cc:182] This TensorFlow binary is optimized to use available CPU instructions in performance-critical operations.\n",
            "To enable the following instructions: AVX2 FMA, in other operations, rebuild TensorFlow with the appropriate compiler flags.\n",
            "2024-07-09 09:30:47.093340: W tensorflow/compiler/tf2tensorrt/utils/py_utils.cc:38] TF-TRT Warning: Could not find TensorRT\n",
            "-> Loading weights from /content/drive/MyDrive/DARES/AF-SfMLearner/logs_afsfm/mdp/models/weights_4\n",
            "/usr/local/lib/python3.10/dist-packages/torch/utils/data/dataloader.py:558: UserWarning: This DataLoader will create 12 worker processes in total. Our suggested max number of worker in current system is 2, which is smaller than what this DataLoader is going to create. Please be aware that excessive worker creation might get DataLoader running slow or even freeze, lower the worker number to avoid potential slowness/freeze if necessary.\n",
            "  warnings.warn(_create_warning_msg(\n",
            "/usr/local/lib/python3.10/dist-packages/torchvision/models/_utils.py:135: UserWarning: Using 'weights' as positional parameter(s) is deprecated since 0.13 and may be removed in the future. Please use keyword parameter(s) instead.\n",
            "  warnings.warn(\n",
            "/usr/local/lib/python3.10/dist-packages/torchvision/models/_utils.py:223: UserWarning: Arguments other than a weight enum or `None` for 'weights' are deprecated since 0.13 and may be removed in the future. The current behavior is equivalent to passing `weights=None`.\n",
            "  warnings.warn(msg)\n",
            "-> Computing predictions with size 320x256\n",
            "  0% 0/4 [00:00<?, ?it/s]/usr/lib/python3.10/multiprocessing/popen_fork.py:66: RuntimeWarning: os.fork() was called. os.fork() is incompatible with multithreaded code, and JAX is multithreaded, so this will likely lead to a deadlock.\n",
            "  self.pid = os.fork()\n",
            "100% 4/4 [00:00<00:00,  4.28it/s]\n",
            "-> Reconstructing\n",
            "  0% 0/4 [00:00<?, ?it/s]255.0 0.0 67.40298 37.36065 195.57199\n",
            "255.0 0.0 62.37527 34.831936 179.36526\n",
            " 50% 2/4 [00:00<00:00, 16.15it/s]255.0 1.0 70.15007 39.08744 196.83258\n",
            "255.0 0.0 71.65277 41.511814 205.52847\n",
            "100% 4/4 [00:00<00:00, 17.51it/s]\n",
            "Saving point clouds...\n",
            "Point clouds saved to /content/drive/MyDrive/DARES/AF-SfMLearner/splits/endovis/reconstruction\n"
          ]
        }
      ]
    },
    {
      "cell_type": "code",
      "source": [
        "!python evaluate_depth.py --data_path /content/drive/MyDrive/DARES/SCARED_Images_Resized --max_depth 150.0 --eval_mono --load_weights_folder /content/drive/MyDrive/DARES/AF-SfMLearner/logs_sig_afsfm/mdp/models/weights_8"
      ],
      "metadata": {
        "id": "d_CFugXIdKyp",
        "outputId": "32c7310d-6a16-4753-caf8-aace84cff4c1",
        "colab": {
          "base_uri": "https://localhost:8080/"
        }
      },
      "execution_count": null,
      "outputs": [
        {
          "output_type": "stream",
          "name": "stdout",
          "text": [
            "2024-07-08 17:53:58.512899: E external/local_xla/xla/stream_executor/cuda/cuda_dnn.cc:9261] Unable to register cuDNN factory: Attempting to register factory for plugin cuDNN when one has already been registered\n",
            "2024-07-08 17:53:58.512958: E external/local_xla/xla/stream_executor/cuda/cuda_fft.cc:607] Unable to register cuFFT factory: Attempting to register factory for plugin cuFFT when one has already been registered\n",
            "2024-07-08 17:53:58.514962: E external/local_xla/xla/stream_executor/cuda/cuda_blas.cc:1515] Unable to register cuBLAS factory: Attempting to register factory for plugin cuBLAS when one has already been registered\n",
            "2024-07-08 17:53:58.526335: I tensorflow/core/platform/cpu_feature_guard.cc:182] This TensorFlow binary is optimized to use available CPU instructions in performance-critical operations.\n",
            "To enable the following instructions: AVX2 FMA, in other operations, rebuild TensorFlow with the appropriate compiler flags.\n",
            "2024-07-08 17:54:00.069372: W tensorflow/compiler/tf2tensorrt/utils/py_utils.cc:38] TF-TRT Warning: Could not find TensorRT\n",
            "-> Loading weights from /content/drive/MyDrive/DARES/AF-SfMLearner/logs_sig_afsfm/mdp/models/weights_8\n",
            "/usr/local/lib/python3.10/dist-packages/torch/utils/data/dataloader.py:558: UserWarning: This DataLoader will create 12 worker processes in total. Our suggested max number of worker in current system is 2, which is smaller than what this DataLoader is going to create. Please be aware that excessive worker creation might get DataLoader running slow or even freeze, lower the worker number to avoid potential slowness/freeze if necessary.\n",
            "  warnings.warn(_create_warning_msg(\n",
            "LoRA params initialized!\n",
            "-> Computing predictions with size 320x256\n",
            "/usr/lib/python3.10/multiprocessing/popen_fork.py:66: RuntimeWarning: os.fork() was called. os.fork() is incompatible with multithreaded code, and JAX is multithreaded, so this will likely lead to a deadlock.\n",
            "  self.pid = os.fork()\n",
            "-> Evaluating\n",
            "   Mono evaluation - using median scaling\n",
            " Scaling ratios | med: 183.991 | std: 0.433\n",
            "\n",
            "   abs_rel |   sq_rel |     rmse | rmse_log |       a1 |       a2 |       a3 | \n",
            "&   0.116  &   1.555  &   9.473  &   0.161  &   0.867  &   0.972  &   0.993  \\\\\n",
            "\n",
            "-> Done!\n"
          ]
        }
      ]
    },
    {
      "cell_type": "code",
      "source": [],
      "metadata": {
        "id": "y44CdUr_ewzs"
      },
      "execution_count": null,
      "outputs": []
    }
  ]
}