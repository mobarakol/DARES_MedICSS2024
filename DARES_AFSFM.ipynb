{
  "nbformat": 4,
  "nbformat_minor": 0,
  "metadata": {
    "colab": {
      "provenance": [],
      "machine_shape": "hm",
      "gpuType": "A100",
      "include_colab_link": true
    },
    "kernelspec": {
      "name": "python3",
      "display_name": "Python 3"
    },
    "language_info": {
      "name": "python"
    },
    "accelerator": "GPU"
  },
  "cells": [
    {
      "cell_type": "markdown",
      "metadata": {
        "id": "view-in-github",
        "colab_type": "text"
      },
      "source": [
        "<a href=\"https://colab.research.google.com/github/mobarakol/DARES_MedICSS2024/blob/main/DARES_AFSFM.ipynb\" target=\"_parent\"><img src=\"https://colab.research.google.com/assets/colab-badge.svg\" alt=\"Open In Colab\"/></a>"
      ]
    },
    {
      "cell_type": "code",
      "source": [
        "%cd /content/drive/MyDrive/DARES/AF-SfMLearner"
      ],
      "metadata": {
        "colab": {
          "base_uri": "https://localhost:8080/"
        },
        "id": "MwScEIXclQmx",
        "outputId": "3454e2ac-42be-4a7c-ff8a-24c0c158ea47"
      },
      "execution_count": null,
      "outputs": [
        {
          "output_type": "stream",
          "name": "stdout",
          "text": [
            "/content/drive/MyDrive/DARES/AF-SfMLearner\n"
          ]
        }
      ]
    },
    {
      "cell_type": "code",
      "source": [
        "!pip -q install tensorboardX"
      ],
      "metadata": {
        "colab": {
          "base_uri": "https://localhost:8080/"
        },
        "id": "EkHr7_7L24RL",
        "outputId": "0dcf7cc1-6749-40ad-db22-5b8d0a017522"
      },
      "execution_count": null,
      "outputs": [
        {
          "output_type": "stream",
          "name": "stdout",
          "text": [
            "\u001b[?25l     \u001b[90m━━━━━━━━━━━━━━━━━━━━━━━━━━━━━━━━━━━━━━━━\u001b[0m \u001b[32m0.0/101.7 kB\u001b[0m \u001b[31m?\u001b[0m eta \u001b[36m-:--:--\u001b[0m\r\u001b[2K     \u001b[90m━━━━━━━━━━━━━━━━━━━━━━━━━━━━━━━━━━━━━━━━\u001b[0m \u001b[32m101.7/101.7 kB\u001b[0m \u001b[31m3.7 MB/s\u001b[0m eta \u001b[36m0:00:00\u001b[0m\n",
            "\u001b[?25h"
          ]
        }
      ]
    },
    {
      "cell_type": "code",
      "source": [
        "!ls"
      ],
      "metadata": {
        "id": "wQxjuLvWs8YH",
        "colab": {
          "base_uri": "https://localhost:8080/"
        },
        "outputId": "02cbfd53-7a90-4188-87fa-58198edad9b9"
      },
      "execution_count": null,
      "outputs": [
        {
          "output_type": "stream",
          "name": "stdout",
          "text": [
            "datasets\t\timgs\t     README.md\t\t    trainer_stage_two.py\n",
            "evaluate_depth.py\tlayers.py    splits\t\t    train_stage_one.py\n",
            "evaluate_pose.py\tLICENSE      test_simple.py\t    train_stage_two.py\n",
            "export_gt_depth.py\tnetworks     train_end_to_end.py    utils.py\n",
            "export_gt_pose.py\toptions.py   trainer_end_to_end.py  visualize_pose.py\n",
            "extract_left_frames.py\t__pycache__  trainer_stage_one.py\n"
          ]
        }
      ]
    },
    {
      "cell_type": "code",
      "source": [
        "!python evaluate_depth.py --data_path /content/drive/MyDrive/DARES/SCARED_Images_Resized --max_depth 150.0 --eval_mono --load_weights_folder /content/drive/MyDrive/DARES/af_sfmlearner_weights_media"
      ],
      "metadata": {
        "colab": {
          "base_uri": "https://localhost:8080/"
        },
        "id": "l6-e3sShvDSf",
        "outputId": "f0a67440-5694-484a-bfa6-f7725c147243"
      },
      "execution_count": null,
      "outputs": [
        {
          "output_type": "stream",
          "name": "stdout",
          "text": [
            "-> Loading weights from /content/drive/MyDrive/DARES/af_sfmlearner_weights_media\n",
            "/usr/local/lib/python3.10/dist-packages/torchvision/models/_utils.py:135: UserWarning: Using 'weights' as positional parameter(s) is deprecated since 0.13 and may be removed in the future. Please use keyword parameter(s) instead.\n",
            "  warnings.warn(\n",
            "/usr/local/lib/python3.10/dist-packages/torchvision/models/_utils.py:223: UserWarning: Arguments other than a weight enum or `None` for 'weights' are deprecated since 0.13 and may be removed in the future. The current behavior is equivalent to passing `weights=None`.\n",
            "  warnings.warn(msg)\n",
            "-> Computing predictions with size 320x256\n",
            "-> Evaluating\n",
            "   Mono evaluation - using median scaling\n",
            " Scaling ratios | med: 152.230 | std: 0.323\n",
            "\n",
            "   abs_rel |   sq_rel |     rmse | rmse_log |       a1 |       a2 |       a3 | \n",
            "&   0.060  &   0.477  &   5.100  &   0.083  &   0.966  &   0.997  &   1.000  \\\\\n",
            "\n",
            "-> Done!\n"
          ]
        }
      ]
    },
    {
      "cell_type": "code",
      "source": [
        "!python evaluate_pose.py --data_path /content/drive/MyDrive/DARES/SCARED_Images_Resized --load_weights_folder /content/drive/MyDrive/DARES/af_sfmlearner_weights_media"
      ],
      "metadata": {
        "colab": {
          "base_uri": "https://localhost:8080/"
        },
        "id": "RFCZ9aXEy553",
        "outputId": "0d6b3096-1439-4f0b-fe78-91031c8deaf4"
      },
      "execution_count": null,
      "outputs": [
        {
          "output_type": "stream",
          "name": "stdout",
          "text": [
            "-> Computing pose predictions\n",
            "\n",
            "   Trajectory error: 0.0501, std: 0.0281\n",
            "\n",
            "\n",
            "   Rotation error: 0.0034, std: 0.0022\n",
            "\n"
          ]
        }
      ]
    },
    {
      "cell_type": "code",
      "source": [
        "!python train_end_to_end.py --data_path /content/drive/MyDrive/DARES/SCARED_Images_Resized --log_dir logs_afsfm --num_epochs 5"
      ],
      "metadata": {
        "colab": {
          "base_uri": "https://localhost:8080/"
        },
        "id": "D3MJI3501hdj",
        "outputId": "9826be22-eb6a-4dd5-c042-5f6f304b39e6"
      },
      "execution_count": null,
      "outputs": [
        {
          "output_type": "stream",
          "name": "stdout",
          "text": [
            "/usr/local/lib/python3.10/dist-packages/torchvision/models/_utils.py:135: UserWarning: Using 'weights' as positional parameter(s) is deprecated since 0.13 and may be removed in the future. Please use keyword parameter(s) instead.\n",
            "  warnings.warn(\n",
            "/usr/local/lib/python3.10/dist-packages/torchvision/models/_utils.py:223: UserWarning: Arguments other than a weight enum or `None` for 'weights' are deprecated since 0.13 and may be removed in the future. The current behavior is equivalent to passing `weights=ResNet18_Weights.IMAGENET1K_V1`. You can also use `weights=ResNet18_Weights.DEFAULT` to get the most up-to-date weights.\n",
            "  warnings.warn(msg)\n",
            "Training model named:\n",
            "   mdp\n",
            "Models and tensorboard events files are saved to:\n",
            "   logs_afsfm\n",
            "Training is using:\n",
            "   cuda\n",
            "/usr/local/lib/python3.10/dist-packages/torch/functional.py:512: UserWarning: torch.meshgrid: in an upcoming release, it will be required to pass the indexing argument. (Triggered internally at ../aten/src/ATen/native/TensorShape.cpp:3587.)\n",
            "  return _VF.meshgrid(tensors, **kwargs)  # type: ignore[attr-defined]\n",
            "Using split:\n",
            "   endovis\n",
            "There are 15351 training items and 1705 validation items\n",
            "\n",
            "Training\n",
            "/usr/local/lib/python3.10/dist-packages/torch/nn/functional.py:4343: UserWarning: Default grid_sample and affine_grid behavior has changed to align_corners=False since 1.3.0. Please specify align_corners=True if the old behavior is desired. See the documentation of grid_sample for details.\n",
            "  warnings.warn(\n",
            "/usr/local/lib/python3.10/dist-packages/torch/autograd/graph.py:744: UserWarning: Plan failed with a cudnnException: CUDNN_BACKEND_EXECUTION_PLAN_DESCRIPTOR: cudnnFinalize Descriptor Failed cudnn_status: CUDNN_STATUS_NOT_SUPPORTED (Triggered internally at ../aten/src/ATen/native/cudnn/Conv_v8.cpp:919.)\n",
            "  return Variable._execution_engine.run_backward(  # Calls into the C++ engine to run the backward pass\n",
            "epoch   0 | batch      0 | examples/s:   4.1 | loss: 0.19660 | time elapsed: 00h00m23s | time left: 00h00m00s\n",
            "epoch   0 | batch    200 | examples/s:  33.3 | loss: 0.11376 | time elapsed: 00h03m48s | time left: 01h57m45s\n",
            "epoch   0 | batch    400 | examples/s:  29.8 | loss: 0.08401 | time elapsed: 00h06m22s | time left: 01h35m27s\n",
            "epoch   0 | batch    600 | examples/s:  30.1 | loss: 0.07502 | time elapsed: 00h08m10s | time left: 01h18m58s\n"
          ]
        }
      ]
    },
    {
      "cell_type": "code",
      "source": [],
      "metadata": {
        "id": "iyw4RMnY2zYo"
      },
      "execution_count": null,
      "outputs": []
    }
  ]
}